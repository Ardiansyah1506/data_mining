{
 "cells": [
  {
   "cell_type": "code",
   "execution_count": null,
   "metadata": {},
   "outputs": [],
   "source": [
    "# Import library yang diperlukan\n",
    "import pandas as pd\n",
    "from sklearn.model_selection import train_test_split\n",
    "from sklearn.preprocessing import StandardScaler, LabelEncoder\n"
   ]
  },
  {
   "cell_type": "markdown",
   "metadata": {},
   "source": [
    "## Load dataset\n",
    "data = pd.read_csv(\"heart.csv\")"
   ]
  },
  {
   "cell_type": "code",
   "execution_count": null,
   "metadata": {},
   "outputs": [],
   "source": [
    "# 1. Mengecek informasi data dan missing values\n",
    "print(data.info())\n",
    "print(data.isnull().sum())\n",
    "\n",
    "# 2. Mengisi atau menghapus missing values (jika ada)\n",
    "data = data.dropna()  # Menghapus baris yang memiliki missing values, bisa diganti metode lain sesuai kebutuhan\n",
    "\n",
    "# 3. Encoding kolom kategorikal (jika ada)\n",
    "label_encoder = LabelEncoder()\n",
    "data['sex'] = label_encoder.fit_transform(data['sex'])\n",
    "data['cp'] = label_encoder.fit_transform(data['cp'])\n",
    "data['thal'] = label_encoder.fit_transform(data['thal'])\n",
    "data['slope'] = label_encoder.fit_transform(data['slope'])\n",
    "data['restecg'] = label_encoder.fit_transform(data['restecg'])"
   ]
  },
  {
   "cell_type": "code",
   "execution_count": null,
   "metadata": {},
   "outputs": [],
   "source": [
    "# 4. Memisahkan fitur (X) dan label/target (y)\n",
    "X = data.drop(columns='target') \n",
    "y = data['target']\n",
    "\n",
    "# 5. Standarisasi fitur\n",
    "scaler = StandardScaler()\n",
    "X = scaler.fit_transform(X)\n",
    "\n",
    "# 6. Memisahkan data menjadi data latih dan uji\n",
    "X_train, X_test, y_train, y_test = train_test_split(X, y, test_size=0.2, random_state=42)\n"
   ]
  },
  {
   "cell_type": "code",
   "execution_count": null,
   "metadata": {},
   "outputs": [],
   "source": [
    "# Hasil akhir\n",
    "print(\"Shape of X_train:\", X_train.shape)\n",
    "print(\"Shape of X_test:\", X_test.shape)\n",
    "print(\"Shape of y_train:\", y_train.shape)\n",
    "print(\"Shape of y_test:\", y_test.shape)"
   ]
  }
 ],
 "metadata": {
  "language_info": {
   "name": "python"
  }
 },
 "nbformat": 4,
 "nbformat_minor": 2
}
